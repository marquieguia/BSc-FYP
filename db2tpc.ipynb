{
 "cells": [
  {
   "cell_type": "markdown",
   "metadata": {},
   "source": [
    "# From database to tpc.pdf"
   ]
  },
  {
   "cell_type": "code",
   "execution_count": null,
   "metadata": {},
   "outputs": [],
   "source": [
    "import numpy as np\n",
    "import pandas as pd\n",
    "import matplotlib.pyplot as plt"
   ]
  },
  {
   "cell_type": "code",
   "execution_count": null,
   "metadata": {},
   "outputs": [],
   "source": [
    "# read the two databases:\n",
    "\n",
    "db1 = pd.read_csv('updated_db_prokaryotic.csv', encoding='ISO-8859-1')\n",
    "db2 = pd.read_csv('unpublished_db_prokaryotic.csv')"
   ]
  },
  {
   "cell_type": "markdown",
   "metadata": {},
   "source": [
    "### Classify traits in to Fundamental Metabolic traits (fm_traits) or Growth traits (gro_traits)"
   ]
  },
  {
   "cell_type": "code",
   "execution_count": null,
   "metadata": {},
   "outputs": [],
   "source": [
    "# db1 classification\n",
    "db1_traits = db1['StandardisedTraitName'].values\n",
    "\n",
    "dic = {}\n",
    "\n",
    "for i in range(len(db1_traits)):\n",
    "    new_key = db1_traits[i]\n",
    "    new_val = 5\n",
    "    dic[new_key] = new_val\n",
    "    \n",
    "db1_traits = list(dic.keys())\n",
    "fm_traits1 = [db1_traits[2],db1_traits[3], db1_traits[5], db1_traits[6],db1_traits[8], db1_traits[10], db1_traits[11], db1_traits[12], db1_traits[14],db1_traits[15], db1_traits[17], db1_traits[18], db1_traits[20], db1_traits[21], db1_traits[22],db1_traits[23], db1_traits[24], db1_traits[25], db1_traits[26], db1_traits[27]]\n",
    "gro_traits1 = [db1_traits[1],db1_traits[9]]\n",
    "\n",
    "bool_fmt = db1['StandardisedTraitName'].isin(fm_traits1)\n",
    "bool_grt = db1['StandardisedTraitName'].isin(gro_traits1)"
   ]
  },
  {
   "cell_type": "code",
   "execution_count": null,
   "metadata": {},
   "outputs": [],
   "source": [
    "print(\"Initial\", db1.shape)\n",
    "      \n",
    "db1['LabelTrait'] = db1['StandardisedTraitName']\n",
    "\n",
    "unwanted = []\n",
    "\n",
    "for i in range(len(db1)):\n",
    "    if bool_fmt.iloc[i] == True:\n",
    "        db1.iloc[i, 174] = 'fmt'\n",
    "    elif bool_grt.iloc[i] == True:\n",
    "        db1.iloc[i, 174] = 'growth'\n",
    "    else:\n",
    "        unwanted.append(i)\n",
    "        \n",
    "db1 = db1.drop(unwanted)\n",
    "\n",
    "print(\"Final\", db1.shape)\n"
   ]
  },
  {
   "cell_type": "code",
   "execution_count": null,
   "metadata": {},
   "outputs": [],
   "source": [
    "print(\"Initial\", db2.shape)\n",
    "\n",
    "db2['LabelTrait'] = db2['Trait']\n",
    "\n",
    "for i in range(len(db2)):\n",
    "    if db2.iloc[i, 3] == 'Specific Growth Rate':\n",
    "        db2.iloc[i, 12] = 'growth'\n",
    "    else:\n",
    "        db2.iloc[i, 12] = 'fmt'\n",
    "\n",
    "print(\"Final\", db2.shape)"
   ]
  },
  {
   "cell_type": "markdown",
   "metadata": {},
   "source": [
    "### Isolation of important columns: ID, TraitValue, TraitUnit, Temp, TempUnit"
   ]
  },
  {
   "cell_type": "code",
   "execution_count": null,
   "metadata": {},
   "outputs": [],
   "source": [
    "# db1 isolation of important columns\n",
    "col_name = ['Strain','Trait','TraitValue', 'TraitUnits', 'Temperature', 'TemperatureUnits', 'LabelTrait','Genus', 'Species']\n",
    "\n",
    "clean_db1 = db1[['OriginalID','StandardisedTraitName','OriginalTraitValue', 'OriginalTraitUnit', 'ConTemp', 'ConTempUnit', 'LabelTrait', 'ConGenus', 'ConSpecies']]\n",
    "clean_db1.columns = col_name\n",
    "\n",
    "clean_db2 = db2[['Strain','Trait','TraitValue', 'TraitUnits', 'Temperature', 'TemperatureUnits', 'LabelTrait', 'Genus', 'Species']]\n",
    "\n",
    "db = pd.concat([clean_db1, clean_db2], axis=0)\n"
   ]
  },
  {
   "cell_type": "markdown",
   "metadata": {},
   "source": [
    "### Classify strain-specific data"
   ]
  },
  {
   "cell_type": "code",
   "execution_count": null,
   "metadata": {},
   "outputs": [],
   "source": [
    "# fixing the indices to allow for loops\n",
    "db['Ind'] = db['TraitUnits']\n",
    "\n",
    "for i in range(len(db)):\n",
    "    db.iloc[i, 9] = i\n",
    "\n",
    "db = db.set_index('Ind')"
   ]
  },
  {
   "cell_type": "code",
   "execution_count": null,
   "metadata": {},
   "outputs": [],
   "source": [
    "# renaming strains based on Label traits\n",
    "\n",
    "for i in range(len(db)):\n",
    "    if db.iloc[i, 6] == 'growth':\n",
    "        db.iloc[i, 0] = \"gro_\" + db.iloc[i, 0]\n",
    "    else:\n",
    "        db.iloc[i, 0] = \"fmt_\" + db.iloc[i, 0]"
   ]
  },
  {
   "cell_type": "code",
   "execution_count": null,
   "metadata": {},
   "outputs": [],
   "source": [
    "# create 'strain_dic' where all data is strain- and trait-specific\n",
    "strain_dic = {}\n",
    "\n",
    "for i in range(len(db)):\n",
    "    if db.iloc[i, 6] == 'growth':\n",
    "        new_key = db.iloc[i, 0]\n",
    "        new_val = db[db['Strain'] == new_key]\n",
    "        strain_dic[new_key] = new_val\n",
    "    elif db.iloc[i, 6] == 'fmt':\n",
    "        new_key = db.iloc[i, 0]\n",
    "        new_val = db[db['Strain'] == new_key]\n",
    "        strain_dic[new_key] = new_val "
   ]
  },
  {
   "cell_type": "markdown",
   "metadata": {},
   "source": [
    "### Plotting data"
   ]
  },
  {
   "cell_type": "code",
   "execution_count": null,
   "metadata": {},
   "outputs": [],
   "source": [
    "## STEP 1\n",
    "\n",
    "%cd \\Users\\\\aleja\\\\workspace\\\\actual\\\\prokaryotic_data\\pdf_maker"
   ]
  },
  {
   "cell_type": "code",
   "execution_count": null,
   "metadata": {},
   "outputs": [],
   "source": [
    "# create a graph and save as \".png\"\n",
    "%matplotlib inline\n",
    "from PIL import Image\n",
    "\n",
    "def plot_tpc(strain_list):  # here strain_id is a key from 'strain_dic'\n",
    "    ##############################\n",
    "       \n",
    "    for i in range(len(strain_list)):\n",
    "        strain_name = strain_list[i]\n",
    "        data_strain = strain_dic[strain_name]\n",
    "        fig = plt.figure(num=None, figsize=(8, 6), dpi=300, edgecolor='k')\n",
    "        x = data_strain['Temperature']\n",
    "        y = data_strain['TraitValue']\n",
    "        ax = fig.add_subplot(111)\n",
    "        ax.plot(x, y, 'ro')\n",
    "        ax.set_xlabel(\"Temperature\")\n",
    "        ax.set_ylabel(data_strain.iloc[1, 1] + \" in \" + str(db.iloc[1, 3]))\n",
    "        fig.savefig(strain_name + \".png\") \n",
    "        \n",
    "        im_path = strain_name + '.png'\n",
    "        im = Image.open(im_path)        \n",
    "              \n",
    "        rgb_im = im.convert('RGB')\n",
    "        rgb_im.save(strain_name + '.jpg')\n",
    "    return('Nais')\n",
    "    \n",
    "    ###############################\n",
    "\n",
    "plot_tpc(list_strain)"
   ]
  },
  {
   "cell_type": "code",
   "execution_count": null,
   "metadata": {},
   "outputs": [],
   "source": [
    "# create function to make pdf with image inside\n",
    "from reportlab.pdfgen import canvas  \n",
    "\n",
    "def make_pdf(strain_list):\n",
    "    \n",
    "    ####################################\n",
    "    \n",
    "    for i in range(len(strain_list)):\n",
    "        strain_name = strain_list[i]\n",
    "        data_strain = strain_dic[strain_name]\n",
    "        filename = strain_name + '.pdf'\n",
    "        title_small = data_strain.iloc[1,-3] + ' TPC'\n",
    "        title = title_small.upper()\n",
    "        subtitle = \"The temperature dependence of \" + str(data_strain.iloc[1, 1]) + \" in \" + str(data_strain.iloc[1, 7]) + \" \" + str(data_strain.iloc[1, -1])\n",
    "        pdf = canvas.Canvas(filename)\n",
    "        pdf.setTitle(filename)\n",
    "    \n",
    "    # insert title and subtitle in file\n",
    "        pdf.drawCentredString(300,770,title)  \n",
    "        pdf.drawCentredString(290, 720, subtitle)\n",
    "    \n",
    "    # add line separating\n",
    "        pdf.line(30, 710, 550, 710)\n",
    "\n",
    "    #add image\n",
    "        im = strain_name + '.jpg'\n",
    "        pdf.drawInlineImage(im, x=0, y=240, width=(round(800/1.3)),height=(round(600/1.3)))\n",
    "        pdf.save()\n",
    "    return ('Nais')\n",
    "    ######################################\n",
    "\n",
    "\n",
    "make_pdf(list_strain)"
   ]
  }
 ],
 "metadata": {
  "kernelspec": {
   "display_name": "Python 3",
   "language": "python",
   "name": "python3"
  },
  "language_info": {
   "codemirror_mode": {
    "name": "ipython",
    "version": 3
   },
   "file_extension": ".py",
   "mimetype": "text/x-python",
   "name": "python",
   "nbconvert_exporter": "python",
   "pygments_lexer": "ipython3",
   "version": "3.7.4"
  }
 },
 "nbformat": 4,
 "nbformat_minor": 2
}
