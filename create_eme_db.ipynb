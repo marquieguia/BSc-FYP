{
 "cells": [
  {
   "cell_type": "code",
   "execution_count": 113,
   "metadata": {},
   "outputs": [
    {
     "name": "stderr",
     "output_type": "stream",
     "text": [
      "C:\\Users\\aleja\\Anaconda3\\lib\\site-packages\\IPython\\core\\interactiveshell.py:3058: DtypeWarning: Columns (1,5,10,15,24,28,31,35,37,40,43,46,51,55,66,67,77,78,90,95,103,141,153,156,157,158) have mixed types. Specify dtype option on import or set low_memory=False.\n",
      "  interactivity=interactivity, compiler=compiler, result=result)\n"
     ]
    }
   ],
   "source": [
    "## IMPORTS ##\n",
    "import pandas as pd\n",
    "import numpy as np\n",
    "\n",
    "\n",
    "## READ DATA ##\n",
    "big_data = pd.read_csv('Data/database.csv',encoding='ISO-8859-1')\n",
    "small_data = pd.read_csv('Data/unpub_db.csv')\n",
    "test_data = small_data.head(60)"
   ]
  },
  {
   "cell_type": "markdown",
   "metadata": {},
   "source": [
    "### Here, emergent are growth traits while component just respiration rates from 'unpub_db.csv' for now"
   ]
  },
  {
   "cell_type": "code",
   "execution_count": 114,
   "metadata": {},
   "outputs": [],
   "source": [
    "## EMERGENT TRAIT DATA ##\n",
    "big_eme = big_data[big_data['StandardisedTraitName'] == 'Specific Growth Rate']\n",
    "small_eme = small_data[small_data['Trait'] == 'Specific Growth Rate']\n",
    "\n",
    "## COMPONENT TRAIT DATA ##\n",
    "small_eme = small_data[small_data['Trait'] == 'Specific Respiration Rate']"
   ]
  },
  {
   "cell_type": "code",
   "execution_count": 118,
   "metadata": {},
   "outputs": [],
   "source": [
    "## RENAME COLUMNS ##\n",
    "big_col = {'OriginalID':'ID', 'StandardisedTraitValue':'TraitVal', 'StandardisedTraitUnit':'TraitUnit', 'ConPhylum':'Phylum', 'ConClass':'Class', 'ConOrder':'Order', 'ConFamily':'Family', 'ConGenus':'Genus', 'ConSpecies':'Species', 'ConTemp':'Temp', 'ConTempUnit':'TempUnit'}\n",
    "big_eme = big_eme.rename(columns=big_col)\n",
    "\n",
    "small_col = {'Strain':'ID', 'TraitValue':'TraitVal', 'TraitUnits':'TraitUnit', 'Temperature':'Temp', 'TemperatureUnits':'TempUnit'}\n",
    "small_eme = small_eme.rename(columns=small_col)\n",
    "\n",
    "## CREATE TOTAL EME_DB ##\n",
    "col = list(big_col.values())\n",
    "big_part = big_eme[col]\n",
    "small_part = small_eme[col]\n",
    "\n",
    "eme_db = pd.concat([big_part, small_part], axis=0)\n",
    "\n",
    "## ADJUSTING THE INDEX COLUMN ##\n",
    "eme_db['Index'] = eme_db['ID']        \n",
    "for i in range(len(eme_db)):\n",
    "    eme_db.iloc[i, -1] = i\n",
    "eme_db = eme_db.set_index('Index')\n",
    "\n",
    "\n",
    "## SAVING EME_DB AS A COMPLETE .xlsx FILE ##\n",
    "\n",
    "eme_db.to_excel('Data/eme_db.xlsx')"
   ]
  },
  {
   "cell_type": "code",
   "execution_count": 125,
   "metadata": {},
   "outputs": [],
   "source": [
    "eme_db1 = eme_db[eme_db['TraitVal'] > 0]\n",
    "\n",
    "eme_db1.to_excel('Data/eme_db1.xlsx')\n"
   ]
  }
 ],
 "metadata": {
  "kernelspec": {
   "display_name": "Python 3",
   "language": "python",
   "name": "python3"
  },
  "language_info": {
   "codemirror_mode": {
    "name": "ipython",
    "version": 3
   },
   "file_extension": ".py",
   "mimetype": "text/x-python",
   "name": "python",
   "nbconvert_exporter": "python",
   "pygments_lexer": "ipython3",
   "version": "3.7.4"
  }
 },
 "nbformat": 4,
 "nbformat_minor": 2
}
