{
 "cells": [
  {
   "cell_type": "code",
   "execution_count": 1,
   "metadata": {},
   "outputs": [
    {
     "name": "stderr",
     "output_type": "stream",
     "text": [
      "C:\\Users\\aleja\\Anaconda3\\lib\\site-packages\\IPython\\core\\interactiveshell.py:3058: DtypeWarning: Columns (1,5,10,15,24,28,31,35,37,40,43,46,51,55,66,67,77,78,90,95,103,141,153,156,157,158) have mixed types. Specify dtype option on import or set low_memory=False.\n",
      "  interactivity=interactivity, compiler=compiler, result=result)\n"
     ]
    }
   ],
   "source": [
    "## IMPORTS ##\n",
    "import pandas as pd\n",
    "import numpy as np\n",
    "\n",
    "\n",
    "## READ DATA ##\n",
    "db1 = pd.read_csv('../Data/raw_databases/database.csv',encoding='ISO-8859-1')\n",
    "db2 = pd.read_csv('../Data/raw_databases/unpub_db.csv')"
   ]
  },
  {
   "cell_type": "code",
   "execution_count": 7,
   "metadata": {},
   "outputs": [],
   "source": [
    "#classify into trait-specific data\n",
    "eme_db1 = db1[db1['StandardisedTraitName'] == 'Specific Growth Rate']\n",
    "eme_db2 = db2[db2['Trait'] == 'Specific Growth Rate']\n",
    "\n",
    "comp_trait = ['Sulphide Production', 'Sulphide production', 'uMols methane','Fe2+ Oxidised', 'Caffeine Degradaded Per second (g)', 'Nitrate Production (mM)', 'SO4 Reduction Rate', 'H2S Production', 'mM Fe(II) production', 'Sulphur Oxidation Rate', 'Fe3+ Oxidation Rate', 'Fe2+ Oxidation Rate', 'Sulfate Reduction Rate', 'Nitrogen Removal Rate', 'Methanogenesis', 'Dehalogenation', 'CH4 produced']\n",
    "comp_db1 = db1[db1['StandardisedTraitName'].isin(comp_trait)]\n",
    "comp_db2 = db2[db2['Trait'] == 'Specific Respiration Rate']\n",
    "\n",
    "#relabel columns\n",
    "db1_col = {'OriginalID':'ID', 'StandardisedTraitValue':'TraitVal', 'StandardisedTraitUnit':'TraitUnit', 'ConPhylum':'Phylum', 'ConClass':'Class', 'ConOrder':'Order', 'ConFamily':'Family', 'ConGenus':'Genus', 'ConSpecies':'Species', 'ConTemp':'Temp', 'ConTempUnit':'TempUnit'}\n",
    "eme_db1 = eme_db1.rename(columns=db1_col)\n",
    "comp_db1 = comp_db1.rename(columns=db1_col)\n",
    "\n",
    "db2_col = {'Strain':'ID', 'TraitValue':'TraitVal', 'TraitUnits':'TraitUnit', 'Temperature':'Temp', 'TemperatureUnits':'TempUnit'}\n",
    "eme_db2 = eme_db2.rename(columns=db2_col)\n",
    "comp_db2 = comp_db2.rename(columns=db2_col)\n",
    "\n",
    "#Slice only important columns\n",
    "col = list(db1_col.values())\n",
    "list_db = [eme_db1, eme_db2, comp_db1, comp_db2]\n",
    "\n",
    "eme_db1 = eme_db1[col]\n",
    "eme_db2 = eme_db2[col]\n",
    "comp_db1 = comp_db1[col]\n",
    "comp_db2 = comp_db2[col]"
   ]
  },
  {
   "cell_type": "code",
   "execution_count": 14,
   "metadata": {},
   "outputs": [],
   "source": [
    "#merge db1 and db2 for comp and eme\n",
    "eme_db = pd.concat([eme_db1, eme_db2], axis=0)\n",
    "comp_db = pd.concat([comp_db1, comp_db2], axis=0)\n",
    "\n",
    "#adjust index column and add label column\n",
    "eme_db['Index'] = eme_db['ID']        \n",
    "for i in range(len(eme_db)):\n",
    "    eme_db.iloc[i, -1] = i\n",
    "eme_db = eme_db.set_index('Index')\n",
    "eme_db['Label'] = 'Growth'\n",
    "\n",
    "\n",
    "comp_db['Index'] = comp_db['ID']        \n",
    "for i in range(len(comp_db)):\n",
    "    comp_db.iloc[i, -1] = i\n",
    "comp_db = comp_db.set_index('Index')\n",
    "comp_db['Label'] = 'Respiration'\n",
    "\n",
    "#remove any zero or negative value\n",
    "eme_db = eme_db[eme_db['TraitVal'] > 0]\n",
    "comp_db = comp_db[comp_db['TraitVal'] > 0]\n",
    "\n",
    "#save as excel file\n",
    "eme_db.to_excel('../Data/eme_db.xlsx')\n",
    "comp_db.to_excel('../Data/comp_db.xlsx')"
   ]
  }
 ],
 "metadata": {
  "kernelspec": {
   "display_name": "Python 3",
   "language": "python",
   "name": "python3"
  },
  "language_info": {
   "codemirror_mode": {
    "name": "ipython",
    "version": 3
   },
   "file_extension": ".py",
   "mimetype": "text/x-python",
   "name": "python",
   "nbconvert_exporter": "python",
   "pygments_lexer": "ipython3",
   "version": "3.7.4"
  }
 },
 "nbformat": 4,
 "nbformat_minor": 2
}
